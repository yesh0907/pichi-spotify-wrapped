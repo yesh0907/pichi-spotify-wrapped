{
 "cells": [
  {
   "cell_type": "markdown",
   "metadata": {},
   "source": [
    "# Import libraries"
   ]
  },
  {
   "cell_type": "code",
   "execution_count": 184,
   "metadata": {},
   "outputs": [],
   "source": [
    "import os\n",
    "import datetime\n",
    "import numpy as np\n",
    "import pandas as pd\n",
    "import matplotlib.pyplot as plt\n",
    "import seaborn as sns"
   ]
  },
  {
   "cell_type": "markdown",
   "metadata": {},
   "source": [
    "# Find Most Played Track"
   ]
  },
  {
   "cell_type": "markdown",
   "metadata": {},
   "source": [
    "### Exploration"
   ]
  },
  {
   "cell_type": "code",
   "execution_count": 89,
   "metadata": {},
   "outputs": [
    {
     "data": {
      "text/html": [
       "<div>\n",
       "<style scoped>\n",
       "    .dataframe tbody tr th:only-of-type {\n",
       "        vertical-align: middle;\n",
       "    }\n",
       "\n",
       "    .dataframe tbody tr th {\n",
       "        vertical-align: top;\n",
       "    }\n",
       "\n",
       "    .dataframe thead th {\n",
       "        text-align: right;\n",
       "    }\n",
       "</style>\n",
       "<table border=\"1\" class=\"dataframe\">\n",
       "  <thead>\n",
       "    <tr style=\"text-align: right;\">\n",
       "      <th></th>\n",
       "      <th>endTime</th>\n",
       "      <th>artistName</th>\n",
       "      <th>trackName</th>\n",
       "      <th>msPlayed</th>\n",
       "    </tr>\n",
       "  </thead>\n",
       "  <tbody>\n",
       "    <tr>\n",
       "      <th>0</th>\n",
       "      <td>2020-04-29 05:59</td>\n",
       "      <td>Frank Ocean</td>\n",
       "      <td>Lost</td>\n",
       "      <td>4118</td>\n",
       "    </tr>\n",
       "    <tr>\n",
       "      <th>1</th>\n",
       "      <td>2020-04-29 06:02</td>\n",
       "      <td>Frank Ocean</td>\n",
       "      <td>Forrest Gump</td>\n",
       "      <td>194840</td>\n",
       "    </tr>\n",
       "    <tr>\n",
       "      <th>2</th>\n",
       "      <td>2020-04-29 06:05</td>\n",
       "      <td>Frank Ocean</td>\n",
       "      <td>Swim Good</td>\n",
       "      <td>159520</td>\n",
       "    </tr>\n",
       "    <tr>\n",
       "      <th>3</th>\n",
       "      <td>2020-04-29 09:21</td>\n",
       "      <td>Frank Ocean</td>\n",
       "      <td>Forrest Gump</td>\n",
       "      <td>194840</td>\n",
       "    </tr>\n",
       "    <tr>\n",
       "      <th>4</th>\n",
       "      <td>2020-04-29 09:25</td>\n",
       "      <td>Frank Ocean</td>\n",
       "      <td>Crack Rock</td>\n",
       "      <td>224146</td>\n",
       "    </tr>\n",
       "    <tr>\n",
       "      <th>...</th>\n",
       "      <td>...</td>\n",
       "      <td>...</td>\n",
       "      <td>...</td>\n",
       "      <td>...</td>\n",
       "    </tr>\n",
       "    <tr>\n",
       "      <th>9995</th>\n",
       "      <td>2020-09-20 10:16</td>\n",
       "      <td>The Weeknd</td>\n",
       "      <td>In Your Eyes</td>\n",
       "      <td>180940</td>\n",
       "    </tr>\n",
       "    <tr>\n",
       "      <th>9996</th>\n",
       "      <td>2020-09-20 10:19</td>\n",
       "      <td>Drake</td>\n",
       "      <td>One Dance</td>\n",
       "      <td>173986</td>\n",
       "    </tr>\n",
       "    <tr>\n",
       "      <th>9997</th>\n",
       "      <td>2020-09-20 10:20</td>\n",
       "      <td>Lil Nas X</td>\n",
       "      <td>Old Town Road - Remix</td>\n",
       "      <td>1060</td>\n",
       "    </tr>\n",
       "    <tr>\n",
       "      <th>9998</th>\n",
       "      <td>2020-09-20 10:20</td>\n",
       "      <td>Khalid</td>\n",
       "      <td>Therapy</td>\n",
       "      <td>0</td>\n",
       "    </tr>\n",
       "    <tr>\n",
       "      <th>9999</th>\n",
       "      <td>2020-09-20 10:20</td>\n",
       "      <td>KAYTRANADA</td>\n",
       "      <td>BUS RIDE</td>\n",
       "      <td>823</td>\n",
       "    </tr>\n",
       "  </tbody>\n",
       "</table>\n",
       "<p>10000 rows × 4 columns</p>\n",
       "</div>"
      ],
      "text/plain": [
       "               endTime   artistName              trackName  msPlayed\n",
       "0     2020-04-29 05:59  Frank Ocean                   Lost      4118\n",
       "1     2020-04-29 06:02  Frank Ocean           Forrest Gump    194840\n",
       "2     2020-04-29 06:05  Frank Ocean              Swim Good    159520\n",
       "3     2020-04-29 09:21  Frank Ocean           Forrest Gump    194840\n",
       "4     2020-04-29 09:25  Frank Ocean             Crack Rock    224146\n",
       "...                ...          ...                    ...       ...\n",
       "9995  2020-09-20 10:16   The Weeknd           In Your Eyes    180940\n",
       "9996  2020-09-20 10:19        Drake              One Dance    173986\n",
       "9997  2020-09-20 10:20    Lil Nas X  Old Town Road - Remix      1060\n",
       "9998  2020-09-20 10:20       Khalid                Therapy         0\n",
       "9999  2020-09-20 10:20   KAYTRANADA               BUS RIDE       823\n",
       "\n",
       "[10000 rows x 4 columns]"
      ]
     },
     "execution_count": 89,
     "metadata": {},
     "output_type": "execute_result"
    }
   ],
   "source": [
    "streaming_hist0 = pd.read_json(\"./data/yesh/StreamingHistory0.json\")\n",
    "streaming_hist0"
   ]
  },
  {
   "cell_type": "code",
   "execution_count": 122,
   "metadata": {},
   "outputs": [
    {
     "data": {
      "text/html": [
       "<div>\n",
       "<style scoped>\n",
       "    .dataframe tbody tr th:only-of-type {\n",
       "        vertical-align: middle;\n",
       "    }\n",
       "\n",
       "    .dataframe tbody tr th {\n",
       "        vertical-align: top;\n",
       "    }\n",
       "\n",
       "    .dataframe thead th {\n",
       "        text-align: right;\n",
       "    }\n",
       "</style>\n",
       "<table border=\"1\" class=\"dataframe\">\n",
       "  <thead>\n",
       "    <tr style=\"text-align: right;\">\n",
       "      <th></th>\n",
       "      <th>trackName</th>\n",
       "      <th>msPlayed</th>\n",
       "    </tr>\n",
       "  </thead>\n",
       "  <tbody>\n",
       "    <tr>\n",
       "      <th>0</th>\n",
       "      <td>Saint Pablo</td>\n",
       "      <td>11181698</td>\n",
       "    </tr>\n",
       "    <tr>\n",
       "      <th>1</th>\n",
       "      <td>The Hills</td>\n",
       "      <td>10422645</td>\n",
       "    </tr>\n",
       "    <tr>\n",
       "      <th>2</th>\n",
       "      <td>Laugh Now Cry Later (feat. Lil Durk)</td>\n",
       "      <td>10261616</td>\n",
       "    </tr>\n",
       "    <tr>\n",
       "      <th>3</th>\n",
       "      <td>Pink Matter</td>\n",
       "      <td>9857501</td>\n",
       "    </tr>\n",
       "    <tr>\n",
       "      <th>4</th>\n",
       "      <td>GREECE (feat. Drake)</td>\n",
       "      <td>9044331</td>\n",
       "    </tr>\n",
       "    <tr>\n",
       "      <th>...</th>\n",
       "      <td>...</td>\n",
       "      <td>...</td>\n",
       "    </tr>\n",
       "    <tr>\n",
       "      <th>2746</th>\n",
       "      <td>No Option</td>\n",
       "      <td>0</td>\n",
       "    </tr>\n",
       "    <tr>\n",
       "      <th>2747</th>\n",
       "      <td>Jump Out The Window</td>\n",
       "      <td>0</td>\n",
       "    </tr>\n",
       "    <tr>\n",
       "      <th>2748</th>\n",
       "      <td>Banded Up (feat. XXXTENTACION)</td>\n",
       "      <td>0</td>\n",
       "    </tr>\n",
       "    <tr>\n",
       "      <th>2749</th>\n",
       "      <td>KOALA</td>\n",
       "      <td>0</td>\n",
       "    </tr>\n",
       "    <tr>\n",
       "      <th>2750</th>\n",
       "      <td>Big Ups</td>\n",
       "      <td>0</td>\n",
       "    </tr>\n",
       "  </tbody>\n",
       "</table>\n",
       "<p>2751 rows × 2 columns</p>\n",
       "</div>"
      ],
      "text/plain": [
       "                                 trackName  msPlayed\n",
       "0                              Saint Pablo  11181698\n",
       "1                                The Hills  10422645\n",
       "2     Laugh Now Cry Later (feat. Lil Durk)  10261616\n",
       "3                              Pink Matter   9857501\n",
       "4                     GREECE (feat. Drake)   9044331\n",
       "...                                    ...       ...\n",
       "2746                             No Option         0\n",
       "2747                   Jump Out The Window         0\n",
       "2748        Banded Up (feat. XXXTENTACION)         0\n",
       "2749                                 KOALA         0\n",
       "2750                               Big Ups         0\n",
       "\n",
       "[2751 rows x 2 columns]"
      ]
     },
     "execution_count": 122,
     "metadata": {},
     "output_type": "execute_result"
    }
   ],
   "source": [
    "sorted_most_played_tracks = streaming_hist0.groupby('trackName').sum().sort_values('msPlayed', ascending=False).reset_index()\n",
    "sorted_most_played_tracks"
   ]
  },
  {
   "cell_type": "code",
   "execution_count": 124,
   "metadata": {},
   "outputs": [
    {
     "data": {
      "text/html": [
       "<div>\n",
       "<style scoped>\n",
       "    .dataframe tbody tr th:only-of-type {\n",
       "        vertical-align: middle;\n",
       "    }\n",
       "\n",
       "    .dataframe tbody tr th {\n",
       "        vertical-align: top;\n",
       "    }\n",
       "\n",
       "    .dataframe thead th {\n",
       "        text-align: right;\n",
       "    }\n",
       "</style>\n",
       "<table border=\"1\" class=\"dataframe\">\n",
       "  <thead>\n",
       "    <tr style=\"text-align: right;\">\n",
       "      <th></th>\n",
       "      <th>trackName</th>\n",
       "      <th>msPlayed</th>\n",
       "    </tr>\n",
       "  </thead>\n",
       "  <tbody>\n",
       "    <tr>\n",
       "      <th>0</th>\n",
       "      <td>Saint Pablo</td>\n",
       "      <td>11181698</td>\n",
       "    </tr>\n",
       "  </tbody>\n",
       "</table>\n",
       "</div>"
      ],
      "text/plain": [
       "     trackName  msPlayed\n",
       "0  Saint Pablo  11181698"
      ]
     },
     "execution_count": 124,
     "metadata": {},
     "output_type": "execute_result"
    }
   ],
   "source": [
    "sorted_most_played_tracks.head(1)"
   ]
  },
  {
   "cell_type": "markdown",
   "metadata": {},
   "source": [
    "### Extract into function"
   ]
  },
  {
   "cell_type": "code",
   "execution_count": 125,
   "metadata": {},
   "outputs": [],
   "source": [
    "def find_most_played_track(df):\n",
    "    sorted_most_played_tracks = df.groupby('trackName').sum().sort_values(\n",
    "        'msPlayed', ascending=False).reset_index()\n",
    "    return sorted_most_played_tracks.iloc[0]"
   ]
  },
  {
   "cell_type": "code",
   "execution_count": 126,
   "metadata": {},
   "outputs": [
    {
     "data": {
      "text/plain": [
       "trackName    Saint Pablo\n",
       "msPlayed        11181698\n",
       "Name: 0, dtype: object"
      ]
     },
     "execution_count": 126,
     "metadata": {},
     "output_type": "execute_result"
    }
   ],
   "source": [
    "find_most_played_track(streaming_hist0)"
   ]
  },
  {
   "cell_type": "markdown",
   "metadata": {},
   "source": [
    "### Find all streaming history files in a user folder"
   ]
  },
  {
   "cell_type": "code",
   "execution_count": 127,
   "metadata": {},
   "outputs": [
    {
     "name": "stdout",
     "output_type": "stream",
     "text": [
      "StreamingHistory2.json\n",
      "StreamingHistory0.json\n",
      "StreamingHistory1.json\n"
     ]
    }
   ],
   "source": [
    "test_path = './data/yesh'\n",
    "for root, dirs, files in os.walk(test_path):\n",
    "    for filename in files:\n",
    "        if 'StreamingHistory' in filename:\n",
    "            print(filename)"
   ]
  },
  {
   "cell_type": "code",
   "execution_count": 169,
   "metadata": {},
   "outputs": [],
   "source": [
    "def get_all_user_streaming_history(user_path):\n",
    "    all_streaming_history = []\n",
    "    for root, dirs, files in os.walk(user_path):\n",
    "        for filename in files:\n",
    "            if 'StreamingHistory' in filename:\n",
    "                all_streaming_history.append(filename)\n",
    "    return all_streaming_history"
   ]
  },
  {
   "cell_type": "code",
   "execution_count": 170,
   "metadata": {},
   "outputs": [
    {
     "data": {
      "text/plain": [
       "['StreamingHistory2.json', 'StreamingHistory0.json', 'StreamingHistory1.json']"
      ]
     },
     "execution_count": 170,
     "metadata": {},
     "output_type": "execute_result"
    }
   ],
   "source": [
    "get_all_user_streaming_history(yesh_path)"
   ]
  },
  {
   "cell_type": "markdown",
   "metadata": {},
   "source": [
    "### Find most listened track for one user"
   ]
  },
  {
   "cell_type": "code",
   "execution_count": 171,
   "metadata": {},
   "outputs": [
    {
     "data": {
      "text/html": [
       "<div>\n",
       "<style scoped>\n",
       "    .dataframe tbody tr th:only-of-type {\n",
       "        vertical-align: middle;\n",
       "    }\n",
       "\n",
       "    .dataframe tbody tr th {\n",
       "        vertical-align: top;\n",
       "    }\n",
       "\n",
       "    .dataframe thead th {\n",
       "        text-align: right;\n",
       "    }\n",
       "</style>\n",
       "<table border=\"1\" class=\"dataframe\">\n",
       "  <thead>\n",
       "    <tr style=\"text-align: right;\">\n",
       "      <th></th>\n",
       "      <th>trackName</th>\n",
       "      <th>msPlayed</th>\n",
       "    </tr>\n",
       "  </thead>\n",
       "  <tbody>\n",
       "    <tr>\n",
       "      <th>0</th>\n",
       "      <td>Chicago Freestyle (feat. Giveon)</td>\n",
       "      <td>15632381</td>\n",
       "    </tr>\n",
       "  </tbody>\n",
       "</table>\n",
       "</div>"
      ],
      "text/plain": [
       "                          trackName  msPlayed\n",
       "0  Chicago Freestyle (feat. Giveon)  15632381"
      ]
     },
     "execution_count": 171,
     "metadata": {},
     "output_type": "execute_result"
    }
   ],
   "source": [
    "yesh_path = './data/yesh/'\n",
    "most_listened_tracks = []\n",
    "\n",
    "for streaming_history_filename in get_all_user_streaming_history(yesh_path):\n",
    "    df_streaming_history = pd.read_json(os.path.join(yesh_path, streaming_history_filename))\n",
    "    most_listened_tracks.append(find_most_played_track(df_streaming_history))\n",
    "sorted_df_most_listened_tracks = pd.DataFrame(most_listened_tracks).sort_values('msPlayed', ascending=False)\n",
    "sorted_df_most_listened_tracks.head(1)"
   ]
  },
  {
   "cell_type": "code",
   "execution_count": 172,
   "metadata": {},
   "outputs": [
    {
     "data": {
      "text/plain": [
       "trackName    Chicago Freestyle (feat. Giveon)\n",
       "msPlayed                             15632381\n",
       "Name: 0, dtype: object"
      ]
     },
     "execution_count": 172,
     "metadata": {},
     "output_type": "execute_result"
    }
   ],
   "source": [
    "def get_most_listened_track_for_user(user_path):\n",
    "    most_listened_tracks = []\n",
    "\n",
    "    for streaming_history_filename in get_all_user_streaming_history(user_path):\n",
    "        df_streaming_history = pd.read_json(os.path.join(user_path, streaming_history_filename))\n",
    "        most_listened_tracks.append(find_most_played_track(df_streaming_history))\n",
    "        \n",
    "    sorted_df_most_listened_tracks = pd.DataFrame(most_listened_tracks).sort_values('msPlayed', ascending=False)\n",
    "    return sorted_df_most_listened_tracks.iloc[0]\n",
    "    \n",
    "get_most_listened_track_for_user(yesh_path)"
   ]
  },
  {
   "cell_type": "markdown",
   "metadata": {},
   "source": [
    "### Find most listened track for all users"
   ]
  },
  {
   "cell_type": "code",
   "execution_count": 198,
   "metadata": {},
   "outputs": [
    {
     "data": {
      "text/html": [
       "<div>\n",
       "<style scoped>\n",
       "    .dataframe tbody tr th:only-of-type {\n",
       "        vertical-align: middle;\n",
       "    }\n",
       "\n",
       "    .dataframe tbody tr th {\n",
       "        vertical-align: top;\n",
       "    }\n",
       "\n",
       "    .dataframe thead th {\n",
       "        text-align: right;\n",
       "    }\n",
       "</style>\n",
       "<table border=\"1\" class=\"dataframe\">\n",
       "  <thead>\n",
       "    <tr style=\"text-align: right;\">\n",
       "      <th></th>\n",
       "      <th>Name</th>\n",
       "      <th>Track Name</th>\n",
       "      <th>Time</th>\n",
       "    </tr>\n",
       "  </thead>\n",
       "  <tbody>\n",
       "    <tr>\n",
       "      <th>6</th>\n",
       "      <td>Yash</td>\n",
       "      <td>Let Her Go</td>\n",
       "      <td>17:26:00</td>\n",
       "    </tr>\n",
       "    <tr>\n",
       "      <th>10</th>\n",
       "      <td>Jly</td>\n",
       "      <td>Unknown Track</td>\n",
       "      <td>15:48:06</td>\n",
       "    </tr>\n",
       "    <tr>\n",
       "      <th>8</th>\n",
       "      <td>Yusra</td>\n",
       "      <td>After Hours</td>\n",
       "      <td>13:38:42</td>\n",
       "    </tr>\n",
       "    <tr>\n",
       "      <th>7</th>\n",
       "      <td>Jxu</td>\n",
       "      <td>Rockstar Knights (with Trippie Redd)</td>\n",
       "      <td>09:11:38</td>\n",
       "    </tr>\n",
       "    <tr>\n",
       "      <th>4</th>\n",
       "      <td>Andres</td>\n",
       "      <td>Chicago Freestyle (feat. Giveon)</td>\n",
       "      <td>06:43:19</td>\n",
       "    </tr>\n",
       "    <tr>\n",
       "      <th>13</th>\n",
       "      <td>Noosh</td>\n",
       "      <td>505</td>\n",
       "      <td>05:27:38</td>\n",
       "    </tr>\n",
       "    <tr>\n",
       "      <th>11</th>\n",
       "      <td>Aaron</td>\n",
       "      <td>Lemon Pepper Freestyle (feat. Rick Ross)</td>\n",
       "      <td>04:42:12</td>\n",
       "    </tr>\n",
       "    <tr>\n",
       "      <th>5</th>\n",
       "      <td>Yesh</td>\n",
       "      <td>Chicago Freestyle (feat. Giveon)</td>\n",
       "      <td>04:20:32</td>\n",
       "    </tr>\n",
       "    <tr>\n",
       "      <th>14</th>\n",
       "      <td>Shrav</td>\n",
       "      <td>Over Now (with The Weeknd)</td>\n",
       "      <td>04:10:05</td>\n",
       "    </tr>\n",
       "    <tr>\n",
       "      <th>12</th>\n",
       "      <td>Hursh</td>\n",
       "      <td>L$D</td>\n",
       "      <td>03:46:20</td>\n",
       "    </tr>\n",
       "    <tr>\n",
       "      <th>9</th>\n",
       "      <td>Ung</td>\n",
       "      <td>Sweet (feat. Landon Sears)</td>\n",
       "      <td>03:31:37</td>\n",
       "    </tr>\n",
       "    <tr>\n",
       "      <th>2</th>\n",
       "      <td>Crystal</td>\n",
       "      <td>Meet Me in the Woods</td>\n",
       "      <td>03:29:36</td>\n",
       "    </tr>\n",
       "    <tr>\n",
       "      <th>3</th>\n",
       "      <td>Camila</td>\n",
       "      <td>Ruthless (Nice Guys Always Finish Last)</td>\n",
       "      <td>02:40:40</td>\n",
       "    </tr>\n",
       "    <tr>\n",
       "      <th>16</th>\n",
       "      <td>Sarah</td>\n",
       "      <td>Magic Shop</td>\n",
       "      <td>02:02:19</td>\n",
       "    </tr>\n",
       "    <tr>\n",
       "      <th>0</th>\n",
       "      <td>Kellen</td>\n",
       "      <td>I Am Defiant</td>\n",
       "      <td>02:00:35</td>\n",
       "    </tr>\n",
       "    <tr>\n",
       "      <th>1</th>\n",
       "      <td>Sam</td>\n",
       "      <td>Nandemonaiya</td>\n",
       "      <td>01:59:09</td>\n",
       "    </tr>\n",
       "    <tr>\n",
       "      <th>15</th>\n",
       "      <td>Raymond</td>\n",
       "      <td>Said N Done</td>\n",
       "      <td>01:02:13</td>\n",
       "    </tr>\n",
       "  </tbody>\n",
       "</table>\n",
       "</div>"
      ],
      "text/plain": [
       "       Name                                Track Name      Time\n",
       "6      Yash                                Let Her Go  17:26:00\n",
       "10      Jly                             Unknown Track  15:48:06\n",
       "8     Yusra                               After Hours  13:38:42\n",
       "7       Jxu      Rockstar Knights (with Trippie Redd)  09:11:38\n",
       "4    Andres          Chicago Freestyle (feat. Giveon)  06:43:19\n",
       "13    Noosh                                       505  05:27:38\n",
       "11    Aaron  Lemon Pepper Freestyle (feat. Rick Ross)  04:42:12\n",
       "5      Yesh          Chicago Freestyle (feat. Giveon)  04:20:32\n",
       "14    Shrav                Over Now (with The Weeknd)  04:10:05\n",
       "12    Hursh                                       L$D  03:46:20\n",
       "9       Ung                Sweet (feat. Landon Sears)  03:31:37\n",
       "2   Crystal                      Meet Me in the Woods  03:29:36\n",
       "3    Camila   Ruthless (Nice Guys Always Finish Last)  02:40:40\n",
       "16    Sarah                                Magic Shop  02:02:19\n",
       "0    Kellen                              I Am Defiant  02:00:35\n",
       "1       Sam                              Nandemonaiya  01:59:09\n",
       "15  Raymond                               Said N Done  01:02:13"
      ]
     },
     "execution_count": 198,
     "metadata": {},
     "output_type": "execute_result"
    }
   ],
   "source": [
    "def get_most_listened_track_for_all_users(data_path):\n",
    "    def convert_ms_to_hours(ms):\n",
    "        seconds = (ms/1000) % 60\n",
    "        minutes = (ms/(1000 * 60)) % 60\n",
    "        hours   = (ms/(1000 * 60 * 60)) % 24\n",
    "        return datetime.time(int(hours), int(minutes), int(seconds))\n",
    "    \n",
    "    all_users_most_listened_tracks = []\n",
    "    \n",
    "    for user in os.listdir(data_path):\n",
    "        # format: [user, track name, time]\n",
    "        data = [user.capitalize()]\n",
    "        user_most_listened_track = get_most_listened_track_for_user(os.path.join(data_path, user))\n",
    "        data.append(user_most_listened_track['trackName'])\n",
    "        data.append(convert_ms_to_hours(user_most_listened_track['msPlayed']))\n",
    "        \n",
    "        all_users_most_listened_tracks.append(data)\n",
    "        \n",
    "        df = pd.DataFrame(all_users_most_listened_tracks, columns=['Name', 'Track Name', 'Time'])\n",
    "    \n",
    "    return df.sort_values('Time', ascending=False)\n",
    "    \n",
    "df_most_listened_tracks = get_most_listened_track_for_all_users(\"./data/\")\n",
    "df_most_listened_tracks"
   ]
  },
  {
   "cell_type": "code",
   "execution_count": 199,
   "metadata": {},
   "outputs": [
    {
     "data": {
      "text/html": [
       "<div>\n",
       "<style scoped>\n",
       "    .dataframe tbody tr th:only-of-type {\n",
       "        vertical-align: middle;\n",
       "    }\n",
       "\n",
       "    .dataframe tbody tr th {\n",
       "        vertical-align: top;\n",
       "    }\n",
       "\n",
       "    .dataframe thead th {\n",
       "        text-align: right;\n",
       "    }\n",
       "</style>\n",
       "<table border=\"1\" class=\"dataframe\">\n",
       "  <thead>\n",
       "    <tr style=\"text-align: right;\">\n",
       "      <th></th>\n",
       "      <th>Name</th>\n",
       "      <th>Track Name</th>\n",
       "      <th>Time</th>\n",
       "    </tr>\n",
       "  </thead>\n",
       "  <tbody>\n",
       "    <tr>\n",
       "      <th>6</th>\n",
       "      <td>Yash</td>\n",
       "      <td>Let Her Go</td>\n",
       "      <td>17:26:00</td>\n",
       "    </tr>\n",
       "  </tbody>\n",
       "</table>\n",
       "</div>"
      ],
      "text/plain": [
       "   Name  Track Name      Time\n",
       "6  Yash  Let Her Go  17:26:00"
      ]
     },
     "execution_count": 199,
     "metadata": {},
     "output_type": "execute_result"
    }
   ],
   "source": [
    "df_most_listened_tracks.head(1)"
   ]
  },
  {
   "cell_type": "markdown",
   "metadata": {},
   "source": [
    "### Yash has listened to Let Her Go for about 17 hours and 26 minutes, that is the most listened track in Pi Chi Chapter"
   ]
  }
 ],
 "metadata": {
  "kernelspec": {
   "display_name": "pichi-spotify-wrapped",
   "language": "python",
   "name": "pichi-spotify-wrapped"
  },
  "language_info": {
   "codemirror_mode": {
    "name": "ipython",
    "version": 3
   },
   "file_extension": ".py",
   "mimetype": "text/x-python",
   "name": "python",
   "nbconvert_exporter": "python",
   "pygments_lexer": "ipython3",
   "version": "3.8.5"
  }
 },
 "nbformat": 4,
 "nbformat_minor": 2
}
