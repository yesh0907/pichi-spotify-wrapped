{
 "cells": [
  {
   "cell_type": "code",
   "execution_count": 1,
   "metadata": {},
   "outputs": [],
   "source": [
    "import os\n",
    "import datetime\n",
    "import numpy as np\n",
    "import pandas as pd\n",
    "import matplotlib.pyplot as plt\n",
    "import seaborn as sns"
   ]
  },
  {
   "cell_type": "markdown",
   "metadata": {},
   "source": [
    "Who is the Chapter's Biggest Simp?"
   ]
  },
  {
   "cell_type": "code",
   "execution_count": 2,
   "metadata": {},
   "outputs": [
    {
     "data": {
      "text/html": [
       "<div>\n",
       "<style scoped>\n",
       "    .dataframe tbody tr th:only-of-type {\n",
       "        vertical-align: middle;\n",
       "    }\n",
       "\n",
       "    .dataframe tbody tr th {\n",
       "        vertical-align: top;\n",
       "    }\n",
       "\n",
       "    .dataframe thead th {\n",
       "        text-align: right;\n",
       "    }\n",
       "</style>\n",
       "<table border=\"1\" class=\"dataframe\">\n",
       "  <thead>\n",
       "    <tr style=\"text-align: right;\">\n",
       "      <th></th>\n",
       "      <th>endTime</th>\n",
       "      <th>artistName</th>\n",
       "      <th>trackName</th>\n",
       "      <th>msPlayed</th>\n",
       "    </tr>\n",
       "  </thead>\n",
       "  <tbody>\n",
       "    <tr>\n",
       "      <th>0</th>\n",
       "      <td>2020-04-24 03:56</td>\n",
       "      <td>H.E.R.</td>\n",
       "      <td>Slide</td>\n",
       "      <td>179161</td>\n",
       "    </tr>\n",
       "    <tr>\n",
       "      <th>1</th>\n",
       "      <td>2020-04-24 05:34</td>\n",
       "      <td>Juice WRLD</td>\n",
       "      <td>Righteous</td>\n",
       "      <td>41784</td>\n",
       "    </tr>\n",
       "    <tr>\n",
       "      <th>2</th>\n",
       "      <td>2020-04-25 01:19</td>\n",
       "      <td>Hippie Sabotage</td>\n",
       "      <td>Your Soul</td>\n",
       "      <td>324806</td>\n",
       "    </tr>\n",
       "    <tr>\n",
       "      <th>3</th>\n",
       "      <td>2020-04-25 01:22</td>\n",
       "      <td>Hippie Sabotage</td>\n",
       "      <td>Sunny</td>\n",
       "      <td>174358</td>\n",
       "    </tr>\n",
       "    <tr>\n",
       "      <th>4</th>\n",
       "      <td>2020-04-25 01:31</td>\n",
       "      <td>Bryce Vine</td>\n",
       "      <td>Drew Barrymore</td>\n",
       "      <td>191146</td>\n",
       "    </tr>\n",
       "    <tr>\n",
       "      <th>...</th>\n",
       "      <td>...</td>\n",
       "      <td>...</td>\n",
       "      <td>...</td>\n",
       "      <td>...</td>\n",
       "    </tr>\n",
       "    <tr>\n",
       "      <th>9995</th>\n",
       "      <td>2020-12-20 21:04</td>\n",
       "      <td>Gryffin</td>\n",
       "      <td>Tie Me Down (with Elley Duhé)</td>\n",
       "      <td>218295</td>\n",
       "    </tr>\n",
       "    <tr>\n",
       "      <th>9996</th>\n",
       "      <td>2020-12-20 21:41</td>\n",
       "      <td>Ghastly</td>\n",
       "      <td>LSD</td>\n",
       "      <td>2670</td>\n",
       "    </tr>\n",
       "    <tr>\n",
       "      <th>9997</th>\n",
       "      <td>2020-12-20 21:41</td>\n",
       "      <td>Shawn Mendes</td>\n",
       "      <td>If I Can't Have You - Gryffin Remix</td>\n",
       "      <td>74756</td>\n",
       "    </tr>\n",
       "    <tr>\n",
       "      <th>9998</th>\n",
       "      <td>2020-12-20 21:44</td>\n",
       "      <td>Martin Garrix</td>\n",
       "      <td>In the Name of Love</td>\n",
       "      <td>195706</td>\n",
       "    </tr>\n",
       "    <tr>\n",
       "      <th>9999</th>\n",
       "      <td>2020-12-20 21:49</td>\n",
       "      <td>Seven Lions</td>\n",
       "      <td>First Time (feat. Dylan Matthew)</td>\n",
       "      <td>297782</td>\n",
       "    </tr>\n",
       "  </tbody>\n",
       "</table>\n",
       "<p>10000 rows × 4 columns</p>\n",
       "</div>"
      ],
      "text/plain": [
       "               endTime       artistName                            trackName  \\\n",
       "0     2020-04-24 03:56           H.E.R.                                Slide   \n",
       "1     2020-04-24 05:34       Juice WRLD                            Righteous   \n",
       "2     2020-04-25 01:19  Hippie Sabotage                            Your Soul   \n",
       "3     2020-04-25 01:22  Hippie Sabotage                                Sunny   \n",
       "4     2020-04-25 01:31       Bryce Vine                       Drew Barrymore   \n",
       "...                ...              ...                                  ...   \n",
       "9995  2020-12-20 21:04          Gryffin        Tie Me Down (with Elley Duhé)   \n",
       "9996  2020-12-20 21:41          Ghastly                                  LSD   \n",
       "9997  2020-12-20 21:41     Shawn Mendes  If I Can't Have You - Gryffin Remix   \n",
       "9998  2020-12-20 21:44    Martin Garrix                  In the Name of Love   \n",
       "9999  2020-12-20 21:49      Seven Lions     First Time (feat. Dylan Matthew)   \n",
       "\n",
       "      msPlayed  \n",
       "0       179161  \n",
       "1        41784  \n",
       "2       324806  \n",
       "3       174358  \n",
       "4       191146  \n",
       "...        ...  \n",
       "9995    218295  \n",
       "9996      2670  \n",
       "9997     74756  \n",
       "9998    195706  \n",
       "9999    297782  \n",
       "\n",
       "[10000 rows x 4 columns]"
      ]
     },
     "execution_count": 2,
     "metadata": {},
     "output_type": "execute_result"
    }
   ],
   "source": [
    "streaming_hist_shrav = pd.read_json(\"./data/shrav/StreamingHistory0.json\")\n",
    "streaming_hist_shrav"
   ]
  },
  {
   "cell_type": "markdown",
   "metadata": {},
   "source": [
    "Top 10 Artists w/ Sad Songs:\n",
    "- Giveon \n",
    "- Frank Ocean \n",
    "- Drake (Marvins Room)\n",
    "- The Weeknd (Twenty Eight/Call Out My Name)\n",
    "- Daniel Ceaser \n",
    "- Joji\n",
    "- XXXTENTACION\n",
    "- Juice WRLD\n",
    "- Billie Eilish\n",
    "- Jeremy Zucker\n",
    "#"
   ]
  },
  {
   "cell_type": "code",
   "execution_count": 3,
   "metadata": {},
   "outputs": [],
   "source": [
    "sorted_most_played_artists = streaming_hist_shrav.groupby('artistName').sum().sort_values('msPlayed', ascending=False).reset_index()"
   ]
  },
  {
   "cell_type": "code",
   "execution_count": 4,
   "metadata": {},
   "outputs": [
    {
     "data": {
      "text/html": [
       "<div>\n",
       "<style scoped>\n",
       "    .dataframe tbody tr th:only-of-type {\n",
       "        vertical-align: middle;\n",
       "    }\n",
       "\n",
       "    .dataframe tbody tr th {\n",
       "        vertical-align: top;\n",
       "    }\n",
       "\n",
       "    .dataframe thead th {\n",
       "        text-align: right;\n",
       "    }\n",
       "</style>\n",
       "<table border=\"1\" class=\"dataframe\">\n",
       "  <thead>\n",
       "    <tr style=\"text-align: right;\">\n",
       "      <th></th>\n",
       "      <th>artistName</th>\n",
       "      <th>msPlayed</th>\n",
       "    </tr>\n",
       "  </thead>\n",
       "  <tbody>\n",
       "    <tr>\n",
       "      <th>0</th>\n",
       "      <td>Hippie Sabotage</td>\n",
       "      <td>31109414</td>\n",
       "    </tr>\n",
       "    <tr>\n",
       "      <th>1</th>\n",
       "      <td>Drake</td>\n",
       "      <td>29300596</td>\n",
       "    </tr>\n",
       "    <tr>\n",
       "      <th>2</th>\n",
       "      <td>Travis Scott</td>\n",
       "      <td>28486131</td>\n",
       "    </tr>\n",
       "    <tr>\n",
       "      <th>3</th>\n",
       "      <td>Juice WRLD</td>\n",
       "      <td>26041341</td>\n",
       "    </tr>\n",
       "    <tr>\n",
       "      <th>4</th>\n",
       "      <td>Khalid</td>\n",
       "      <td>25478513</td>\n",
       "    </tr>\n",
       "    <tr>\n",
       "      <th>5</th>\n",
       "      <td>Kehlani</td>\n",
       "      <td>24559415</td>\n",
       "    </tr>\n",
       "    <tr>\n",
       "      <th>6</th>\n",
       "      <td>Louis The Child</td>\n",
       "      <td>23170975</td>\n",
       "    </tr>\n",
       "    <tr>\n",
       "      <th>7</th>\n",
       "      <td>Alina Baraz</td>\n",
       "      <td>21039713</td>\n",
       "    </tr>\n",
       "    <tr>\n",
       "      <th>8</th>\n",
       "      <td>Big Sean</td>\n",
       "      <td>20958983</td>\n",
       "    </tr>\n",
       "    <tr>\n",
       "      <th>9</th>\n",
       "      <td>Daniel Caesar</td>\n",
       "      <td>19519395</td>\n",
       "    </tr>\n",
       "  </tbody>\n",
       "</table>\n",
       "</div>"
      ],
      "text/plain": [
       "        artistName  msPlayed\n",
       "0  Hippie Sabotage  31109414\n",
       "1            Drake  29300596\n",
       "2     Travis Scott  28486131\n",
       "3       Juice WRLD  26041341\n",
       "4           Khalid  25478513\n",
       "5          Kehlani  24559415\n",
       "6  Louis The Child  23170975\n",
       "7      Alina Baraz  21039713\n",
       "8         Big Sean  20958983\n",
       "9    Daniel Caesar  19519395"
      ]
     },
     "execution_count": 4,
     "metadata": {},
     "output_type": "execute_result"
    }
   ],
   "source": [
    "sorted_most_played_artists.head(10)"
   ]
  },
  {
   "cell_type": "code",
   "execution_count": 5,
   "metadata": {},
   "outputs": [],
   "source": [
    "#Extract into function\n",
    "def find_top10_played_artists(df):\n",
    "    sorted_most_played_artists = df.groupby('artistName').sum().sort_values(\n",
    "        'msPlayed', ascending=False).reset_index()\n",
    "    return sorted_most_played_artists.head(10)"
   ]
  },
  {
   "cell_type": "code",
   "execution_count": 6,
   "metadata": {},
   "outputs": [
    {
     "data": {
      "text/html": [
       "<div>\n",
       "<style scoped>\n",
       "    .dataframe tbody tr th:only-of-type {\n",
       "        vertical-align: middle;\n",
       "    }\n",
       "\n",
       "    .dataframe tbody tr th {\n",
       "        vertical-align: top;\n",
       "    }\n",
       "\n",
       "    .dataframe thead th {\n",
       "        text-align: right;\n",
       "    }\n",
       "</style>\n",
       "<table border=\"1\" class=\"dataframe\">\n",
       "  <thead>\n",
       "    <tr style=\"text-align: right;\">\n",
       "      <th></th>\n",
       "      <th>artistName</th>\n",
       "      <th>msPlayed</th>\n",
       "    </tr>\n",
       "  </thead>\n",
       "  <tbody>\n",
       "    <tr>\n",
       "      <th>0</th>\n",
       "      <td>Hippie Sabotage</td>\n",
       "      <td>31109414</td>\n",
       "    </tr>\n",
       "    <tr>\n",
       "      <th>1</th>\n",
       "      <td>Drake</td>\n",
       "      <td>29300596</td>\n",
       "    </tr>\n",
       "    <tr>\n",
       "      <th>2</th>\n",
       "      <td>Travis Scott</td>\n",
       "      <td>28486131</td>\n",
       "    </tr>\n",
       "    <tr>\n",
       "      <th>3</th>\n",
       "      <td>Juice WRLD</td>\n",
       "      <td>26041341</td>\n",
       "    </tr>\n",
       "    <tr>\n",
       "      <th>4</th>\n",
       "      <td>Khalid</td>\n",
       "      <td>25478513</td>\n",
       "    </tr>\n",
       "    <tr>\n",
       "      <th>5</th>\n",
       "      <td>Kehlani</td>\n",
       "      <td>24559415</td>\n",
       "    </tr>\n",
       "    <tr>\n",
       "      <th>6</th>\n",
       "      <td>Louis The Child</td>\n",
       "      <td>23170975</td>\n",
       "    </tr>\n",
       "    <tr>\n",
       "      <th>7</th>\n",
       "      <td>Alina Baraz</td>\n",
       "      <td>21039713</td>\n",
       "    </tr>\n",
       "    <tr>\n",
       "      <th>8</th>\n",
       "      <td>Big Sean</td>\n",
       "      <td>20958983</td>\n",
       "    </tr>\n",
       "    <tr>\n",
       "      <th>9</th>\n",
       "      <td>Daniel Caesar</td>\n",
       "      <td>19519395</td>\n",
       "    </tr>\n",
       "  </tbody>\n",
       "</table>\n",
       "</div>"
      ],
      "text/plain": [
       "        artistName  msPlayed\n",
       "0  Hippie Sabotage  31109414\n",
       "1            Drake  29300596\n",
       "2     Travis Scott  28486131\n",
       "3       Juice WRLD  26041341\n",
       "4           Khalid  25478513\n",
       "5          Kehlani  24559415\n",
       "6  Louis The Child  23170975\n",
       "7      Alina Baraz  21039713\n",
       "8         Big Sean  20958983\n",
       "9    Daniel Caesar  19519395"
      ]
     },
     "execution_count": 6,
     "metadata": {},
     "output_type": "execute_result"
    }
   ],
   "source": [
    "find_top10_played_artists(streaming_hist_shrav)"
   ]
  },
  {
   "cell_type": "code",
   "execution_count": 7,
   "metadata": {},
   "outputs": [],
   "source": [
    "#sort by particular artists:\n",
    "simp_artists = ['Giveon', 'Frank Ocean', 'Drake', 'The Weeknd', 'Daniel Caesar', 'Joji', 'XXXTENTACION', 'Juice WRLD', 'Billie Eilish', 'Jeremy Zucker']\n",
    "filter_artists = streaming_hist_shrav[streaming_hist_shrav['artistName'].isin(simp_artists)]\n",
    "top_simp_artists = filter_artists.groupby('artistName').sum().sort_values('msPlayed', ascending=False).reset_index()"
   ]
  },
  {
   "cell_type": "code",
   "execution_count": 8,
   "metadata": {},
   "outputs": [
    {
     "data": {
      "text/html": [
       "<div>\n",
       "<style scoped>\n",
       "    .dataframe tbody tr th:only-of-type {\n",
       "        vertical-align: middle;\n",
       "    }\n",
       "\n",
       "    .dataframe tbody tr th {\n",
       "        vertical-align: top;\n",
       "    }\n",
       "\n",
       "    .dataframe thead th {\n",
       "        text-align: right;\n",
       "    }\n",
       "</style>\n",
       "<table border=\"1\" class=\"dataframe\">\n",
       "  <thead>\n",
       "    <tr style=\"text-align: right;\">\n",
       "      <th></th>\n",
       "      <th>artistName</th>\n",
       "      <th>msPlayed</th>\n",
       "    </tr>\n",
       "  </thead>\n",
       "  <tbody>\n",
       "    <tr>\n",
       "      <th>0</th>\n",
       "      <td>Drake</td>\n",
       "      <td>29300596</td>\n",
       "    </tr>\n",
       "    <tr>\n",
       "      <th>1</th>\n",
       "      <td>Juice WRLD</td>\n",
       "      <td>26041341</td>\n",
       "    </tr>\n",
       "    <tr>\n",
       "      <th>2</th>\n",
       "      <td>Daniel Caesar</td>\n",
       "      <td>19519395</td>\n",
       "    </tr>\n",
       "    <tr>\n",
       "      <th>3</th>\n",
       "      <td>The Weeknd</td>\n",
       "      <td>18316689</td>\n",
       "    </tr>\n",
       "    <tr>\n",
       "      <th>4</th>\n",
       "      <td>Frank Ocean</td>\n",
       "      <td>6765110</td>\n",
       "    </tr>\n",
       "    <tr>\n",
       "      <th>5</th>\n",
       "      <td>XXXTENTACION</td>\n",
       "      <td>6315684</td>\n",
       "    </tr>\n",
       "    <tr>\n",
       "      <th>6</th>\n",
       "      <td>Jeremy Zucker</td>\n",
       "      <td>5955367</td>\n",
       "    </tr>\n",
       "    <tr>\n",
       "      <th>7</th>\n",
       "      <td>Billie Eilish</td>\n",
       "      <td>2336389</td>\n",
       "    </tr>\n",
       "    <tr>\n",
       "      <th>8</th>\n",
       "      <td>Joji</td>\n",
       "      <td>485497</td>\n",
       "    </tr>\n",
       "  </tbody>\n",
       "</table>\n",
       "</div>"
      ],
      "text/plain": [
       "      artistName  msPlayed\n",
       "0          Drake  29300596\n",
       "1     Juice WRLD  26041341\n",
       "2  Daniel Caesar  19519395\n",
       "3     The Weeknd  18316689\n",
       "4    Frank Ocean   6765110\n",
       "5   XXXTENTACION   6315684\n",
       "6  Jeremy Zucker   5955367\n",
       "7  Billie Eilish   2336389\n",
       "8           Joji    485497"
      ]
     },
     "execution_count": 8,
     "metadata": {},
     "output_type": "execute_result"
    }
   ],
   "source": [
    "top_simp_artists"
   ]
  },
  {
   "cell_type": "code",
   "execution_count": 9,
   "metadata": {},
   "outputs": [],
   "source": [
    "#Extract into function\n",
    "def find_simp_artists(df):\n",
    "    simp_artists = ['Giveon', 'Frank Ocean', 'Drake', 'The Weeknd', 'Daniel Caesar', 'Joji', 'XXXTENTACION', 'Juice WRLD', 'Billie Eilish', 'Jeremy Zucker']\n",
    "    filter_artists = df[df['artistName'].isin(simp_artists)]\n",
    "    top_simp_artists = filter_artists.groupby('artistName').sum().sort_values('msPlayed', ascending=False).reset_index()\n",
    "    total = top_simp_artists['msPlayed'].sum()\n",
    "    return total"
   ]
  },
  {
   "cell_type": "code",
   "execution_count": 10,
   "metadata": {},
   "outputs": [
    {
     "data": {
      "text/plain": [
       "115036068"
      ]
     },
     "execution_count": 10,
     "metadata": {},
     "output_type": "execute_result"
    }
   ],
   "source": [
    "find_simp_artists(streaming_hist_shrav)"
   ]
  },
  {
   "cell_type": "markdown",
   "metadata": {},
   "source": [
    "Find All Streaming History Files in a User Folder"
   ]
  },
  {
   "cell_type": "code",
   "execution_count": 11,
   "metadata": {},
   "outputs": [
    {
     "name": "stdout",
     "output_type": "stream",
     "text": [
      "StreamingHistory0.json\n",
      "StreamingHistory1.json\n"
     ]
    }
   ],
   "source": [
    "test_path = './data/shrav'\n",
    "for root, dirs, files in os.walk(test_path):\n",
    "    for filename in files:\n",
    "        if 'StreamingHistory' in filename:\n",
    "            print(filename)"
   ]
  },
  {
   "cell_type": "code",
   "execution_count": 12,
   "metadata": {},
   "outputs": [],
   "source": [
    "#get streaming history for all users\n",
    "\n",
    "def get_all_user_streaming_history(user_path):\n",
    "    all_streaming_history = []\n",
    "    for root, dirs, files in os.walk(user_path):\n",
    "        for filename in files:\n",
    "            if 'StreamingHistory' in filename:\n",
    "                all_streaming_history.append(filename)\n",
    "    return all_streaming_history"
   ]
  },
  {
   "cell_type": "code",
   "execution_count": 13,
   "metadata": {},
   "outputs": [
    {
     "data": {
      "text/plain": [
       "['StreamingHistory0.json', 'StreamingHistory1.json']"
      ]
     },
     "execution_count": 13,
     "metadata": {},
     "output_type": "execute_result"
    }
   ],
   "source": [
    "get_all_user_streaming_history(test_path)\n"
   ]
  },
  {
   "cell_type": "markdown",
   "metadata": {},
   "source": [
    "Filter Simp Artists by All Streaming History"
   ]
  },
  {
   "cell_type": "code",
   "execution_count": 22,
   "metadata": {},
   "outputs": [
    {
     "data": {
      "text/plain": [
       "198484816"
      ]
     },
     "execution_count": 22,
     "metadata": {},
     "output_type": "execute_result"
    }
   ],
   "source": [
    "shrav_path = './data/shrav/'\n",
    "filtered_tracks = []\n",
    "\n",
    "for streaming_history_filename in get_all_user_streaming_history(shrav_path):\n",
    "    df_streaming_history = pd.read_json(os.path.join(shrav_path, streaming_history_filename))\n",
    "    filtered_tracks.append(find_simp_artists(df_streaming_history))\n",
    "sum(filtered_tracks)"
   ]
  },
  {
   "cell_type": "code",
   "execution_count": 23,
   "metadata": {},
   "outputs": [
    {
     "data": {
      "text/plain": [
       "198484816"
      ]
     },
     "execution_count": 23,
     "metadata": {},
     "output_type": "execute_result"
    }
   ],
   "source": [
    "#Extract into function\n",
    "def get_total_simp_song(user_path):\n",
    "    filtered_tracks = []\n",
    "    for streaming_history_filename in get_all_user_streaming_history(user_path):\n",
    "        df_streaming_history = pd.read_json(os.path.join(user_path, streaming_history_filename))\n",
    "        filtered_tracks.append(find_simp_artists(df_streaming_history))\n",
    "    return sum(filtered_tracks)\n",
    "\n",
    "get_total_simp_song(shrav_path)\n"
   ]
  },
  {
   "cell_type": "markdown",
   "metadata": {},
   "source": [
    "Find Biggest Simp"
   ]
  },
  {
   "cell_type": "code",
   "execution_count": 27,
   "metadata": {},
   "outputs": [
    {
     "data": {
      "text/html": [
       "<div>\n",
       "<style scoped>\n",
       "    .dataframe tbody tr th:only-of-type {\n",
       "        vertical-align: middle;\n",
       "    }\n",
       "\n",
       "    .dataframe tbody tr th {\n",
       "        vertical-align: top;\n",
       "    }\n",
       "\n",
       "    .dataframe thead th {\n",
       "        text-align: right;\n",
       "    }\n",
       "</style>\n",
       "<table border=\"1\" class=\"dataframe\">\n",
       "  <thead>\n",
       "    <tr style=\"text-align: right;\">\n",
       "      <th></th>\n",
       "      <th>Name</th>\n",
       "      <th>Time</th>\n",
       "    </tr>\n",
       "  </thead>\n",
       "  <tbody>\n",
       "    <tr>\n",
       "      <th>9</th>\n",
       "      <td>Ung</td>\n",
       "      <td>22:22:49</td>\n",
       "    </tr>\n",
       "    <tr>\n",
       "      <th>3</th>\n",
       "      <td>Camila</td>\n",
       "      <td>20:14:33</td>\n",
       "    </tr>\n",
       "    <tr>\n",
       "      <th>6</th>\n",
       "      <td>Yash</td>\n",
       "      <td>18:48:16</td>\n",
       "    </tr>\n",
       "    <tr>\n",
       "      <th>13</th>\n",
       "      <td>Noosh</td>\n",
       "      <td>16:45:16</td>\n",
       "    </tr>\n",
       "    <tr>\n",
       "      <th>5</th>\n",
       "      <td>Yesh</td>\n",
       "      <td>15:18:58</td>\n",
       "    </tr>\n",
       "    <tr>\n",
       "      <th>15</th>\n",
       "      <td>Raymond</td>\n",
       "      <td>12:16:59</td>\n",
       "    </tr>\n",
       "    <tr>\n",
       "      <th>0</th>\n",
       "      <td>Kellen</td>\n",
       "      <td>11:58:45</td>\n",
       "    </tr>\n",
       "    <tr>\n",
       "      <th>8</th>\n",
       "      <td>Yusra</td>\n",
       "      <td>11:21:29</td>\n",
       "    </tr>\n",
       "    <tr>\n",
       "      <th>2</th>\n",
       "      <td>Crystal</td>\n",
       "      <td>10:16:50</td>\n",
       "    </tr>\n",
       "    <tr>\n",
       "      <th>4</th>\n",
       "      <td>Andres</td>\n",
       "      <td>10:14:08</td>\n",
       "    </tr>\n",
       "    <tr>\n",
       "      <th>12</th>\n",
       "      <td>Hursh</td>\n",
       "      <td>09:03:31</td>\n",
       "    </tr>\n",
       "    <tr>\n",
       "      <th>14</th>\n",
       "      <td>Shrav</td>\n",
       "      <td>07:08:04</td>\n",
       "    </tr>\n",
       "    <tr>\n",
       "      <th>1</th>\n",
       "      <td>Sam</td>\n",
       "      <td>06:00:11</td>\n",
       "    </tr>\n",
       "    <tr>\n",
       "      <th>11</th>\n",
       "      <td>Aaron</td>\n",
       "      <td>05:18:48</td>\n",
       "    </tr>\n",
       "    <tr>\n",
       "      <th>10</th>\n",
       "      <td>Jly</td>\n",
       "      <td>00:23:33</td>\n",
       "    </tr>\n",
       "    <tr>\n",
       "      <th>7</th>\n",
       "      <td>Jxu</td>\n",
       "      <td>00:14:52</td>\n",
       "    </tr>\n",
       "    <tr>\n",
       "      <th>16</th>\n",
       "      <td>Sarah</td>\n",
       "      <td>00:06:06</td>\n",
       "    </tr>\n",
       "  </tbody>\n",
       "</table>\n",
       "</div>"
      ],
      "text/plain": [
       "       Name      Time\n",
       "9       Ung  22:22:49\n",
       "3    Camila  20:14:33\n",
       "6      Yash  18:48:16\n",
       "13    Noosh  16:45:16\n",
       "5      Yesh  15:18:58\n",
       "15  Raymond  12:16:59\n",
       "0    Kellen  11:58:45\n",
       "8     Yusra  11:21:29\n",
       "2   Crystal  10:16:50\n",
       "4    Andres  10:14:08\n",
       "12    Hursh  09:03:31\n",
       "14    Shrav  07:08:04\n",
       "1       Sam  06:00:11\n",
       "11    Aaron  05:18:48\n",
       "10      Jly  00:23:33\n",
       "7       Jxu  00:14:52\n",
       "16    Sarah  00:06:06"
      ]
     },
     "execution_count": 27,
     "metadata": {},
     "output_type": "execute_result"
    }
   ],
   "source": [
    "def biggest_simp(data_path):\n",
    "    def convert_ms_to_hours(ms):\n",
    "        seconds = (ms/1000) % 60\n",
    "        minutes = (ms/(1000 * 60)) % 60\n",
    "        hours   = (ms/(1000 * 60 * 60)) % 24\n",
    "        return datetime.time(int(hours), int(minutes), int(seconds))\n",
    "    \n",
    "    all_users_most_simp = []\n",
    "    \n",
    "    for user in os.listdir(data_path):\n",
    "        # format: [user, track name, time]\n",
    "        data = [user.capitalize()]\n",
    "        simp = get_total_simp_song(os.path.join(data_path, user))\n",
    "        data.append(convert_ms_to_hours(simp))\n",
    "        \n",
    "        all_users_most_simp.append(data)\n",
    "        \n",
    "    df = pd.DataFrame(all_users_most_simp, columns=['Name', 'Time'])\n",
    "    \n",
    "    return df.sort_values('Time', ascending=False)\n",
    "    \n",
    "df_most_listened_tracks = biggest_simp(\"./data/\")\n",
    "df_most_listened_tracks"
   ]
  }
 ],
 "metadata": {
  "kernelspec": {
   "display_name": "pichi-spotify-wrapped",
   "language": "python",
   "name": "pichi-spotify-wrapped"
  },
  "language_info": {
   "codemirror_mode": {
    "name": "ipython",
    "version": 3
   },
   "file_extension": ".py",
   "mimetype": "text/x-python",
   "name": "python",
   "nbconvert_exporter": "python",
   "pygments_lexer": "ipython3",
   "version": "3.8.5"
  }
 },
 "nbformat": 4,
 "nbformat_minor": 2
}
