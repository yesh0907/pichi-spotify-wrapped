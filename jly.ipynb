{
 "cells": [
  {
   "cell_type": "code",
   "execution_count": 2,
   "metadata": {},
   "outputs": [],
   "source": [
    "import numpy as np\n",
    "import pandas as pd\n",
    "import matplotlib.pyplot as plt\n",
    "import seaborn as sns\n",
    "import os\n",
    "import json"
   ]
  },
  {
   "cell_type": "code",
   "execution_count": 3,
   "metadata": {},
   "outputs": [
    {
     "name": "stdout",
     "output_type": "stream",
     "text": [
      "               endTime     artistName  \\\n",
      "0     2019-09-05 22:42  Playboi Carti   \n",
      "1     2020-04-29 00:03       Lil Peep   \n",
      "2     2020-04-29 00:03         H.E.R.   \n",
      "3     2020-04-29 00:06  Freddie Gibbs   \n",
      "4     2020-04-29 00:10      Lil Mosey   \n",
      "...                ...            ...   \n",
      "9995  2021-01-07 04:37   Trippie Redd   \n",
      "9996  2021-01-07 04:37   Trippie Redd   \n",
      "9997  2021-01-07 04:37   Trippie Redd   \n",
      "9998  2021-01-07 04:37          Diplo   \n",
      "9999  2021-01-07 04:37   Trippie Redd   \n",
      "\n",
      "                                         trackName  msPlayed   name  \n",
      "0     Middle Of The Summer (feat. Red Coldhearted)     98329  Aaron  \n",
      "1                       Falling Down - Bonus Track    233400  Aaron  \n",
      "2                                            Slide      2880  Aaron  \n",
      "3                                       Crime Pays    182680  Aaron  \n",
      "4                                  Blueberry Faygo      1210  Aaron  \n",
      "...                                            ...       ...    ...  \n",
      "9995                                  Forever Ever       990  Aaron  \n",
      "9996                                  How You Feel    213287  Aaron  \n",
      "9997                                         BANG!      1020  Aaron  \n",
      "9998                            Wish - Trippie Mix       920  Aaron  \n",
      "9999                              Missing My Idols      1030  Aaron  \n",
      "\n",
      "[10000 rows x 5 columns]\n"
     ]
    }
   ],
   "source": [
    "#testing to figure out how to get the amount of time played\n",
    "\n",
    "df_aaron = pd.read_json (r'data/aaron/StreamingHistory0.json')\n",
    "df_aaron.head()\n",
    "df_aaron2 = pd.read_json (r'data/aaron/StreamingHistory1.json')\n",
    "df_aaron.append(df_aaron2)\n",
    "df_aaron['name'] = \"Aaron\"\n",
    "#df_aaron.head()\n",
    "print(df_aaron)"
   ]
  },
  {
   "cell_type": "code",
   "execution_count": 4,
   "metadata": {},
   "outputs": [
    {
     "data": {
      "text/plain": "name\njxu        6639626757\nhursh      5721658446\njly        4654521035\nnoosh      4407319396\nyusra      4070750665\nyash       3425511456\nyesh       3301720064\nandres     2763395984\nshrav      2375934887\nraymond    2358710016\ncamila     2357209601\naaron      2308863033\nung        2076485652\ncrystal    1621590455\nsarah      1574722611\nkellen      863210201\nsam         583728983\nName: msPlayed, dtype: int64"
     },
     "execution_count": 4,
     "metadata": {},
     "output_type": "execute_result"
    }
   ],
   "source": [
    "#actual implementation to find who uses spotify the most\n",
    "\n",
    "dfs = []\n",
    "\n",
    "for nameFolder in os.listdir(\"data\"):\n",
    "    path = \"data/\" + nameFolder\n",
    "    for fileName in os.listdir(path):\n",
    "        #print(fileName)\n",
    "        if fileName.find(\"StreamingHistory\") != -1:\n",
    "            filePath = path + \"/\" + fileName\n",
    "            #print(filePath)\n",
    "            df = pd.read_json(filePath)\n",
    "            df[\"name\"] = nameFolder\n",
    "            dfs.append(df)\n",
    "\n",
    "fullDF = pd.concat(dfs)\n",
    "fullDF = fullDF.groupby(\"name\")[\"msPlayed\"].sum()\n",
    "fullDF.sort_values(ascending=False)"
   ]
  },
  {
   "cell_type": "code",
   "execution_count": 5,
   "metadata": {},
   "outputs": [
    {
     "name": "stdout",
     "output_type": "stream",
     "text": [
      "                               name lastModifiedDate  \\\n",
      "0              Content Not Happy ;)       2021-04-18   \n",
      "1                  will it be okay?       2021-04-25   \n",
      "2      you're allowed to let go now       2021-04-24   \n",
      "3             cherish these moments       2021-04-24   \n",
      "4  there's nothing to be ashamed of       2021-04-23   \n",
      "\n",
      "                                               items description  \\\n",
      "0  [{'track': {'trackName': 'Dangerous Woman', 'a...        None   \n",
      "1  [{'track': {'trackName': 'drivers license', 'a...        None   \n",
      "2  [{'track': None, 'episode': None, 'localTrack'...        None   \n",
      "3  [{'track': {'trackName': 'D-D-DANCE', 'artistN...        None   \n",
      "4  [{'track': None, 'episode': None, 'localTrack'...        None   \n",
      "\n",
      "   numberOfFollowers  \n",
      "0                  0  \n",
      "1                  0  \n",
      "2                  0  \n",
      "3                  0  \n",
      "4                  0  \n",
      "0     [{'track': {'trackName': 'Dangerous Woman', 'a...\n",
      "1     [{'track': {'trackName': 'drivers license', 'a...\n",
      "2     [{'track': None, 'episode': None, 'localTrack'...\n",
      "3     [{'track': {'trackName': 'D-D-DANCE', 'artistN...\n",
      "4     [{'track': None, 'episode': None, 'localTrack'...\n",
      "5     [{'track': {'trackName': 'Skin', 'artistName':...\n",
      "6     [{'track': {'trackName': 'How You Like That', ...\n",
      "7     [{'track': {'trackName': 'ON', 'artistName': '...\n",
      "8     [{'track': {'trackName': 'Don’t Push Me (Balla...\n",
      "9     [{'track': {'trackName': 'One I've Been Missin...\n",
      "10    [{'track': {'trackName': '이 사랑', 'artistName':...\n",
      "11    [{'track': {'trackName': 'Insomnia', 'artistNa...\n",
      "12    [{'track': {'trackName': 'The Way', 'artistNam...\n",
      "13    [{'track': {'trackName': 'Bad Boy', 'artistNam...\n",
      "14    [{'track': {'trackName': 'One Last Time', 'art...\n",
      "15    [{'track': {'trackName': 'Dangerous Woman', 'a...\n",
      "16    [{'track': {'trackName': 'April Story', 'artis...\n",
      "17    [{'track': {'trackName': 'Violeta', 'artistNam...\n",
      "Name: items, dtype: object\n",
      "18\n",
      "26\n"
     ]
    }
   ],
   "source": [
    "#testing to figure out how to get the length of a playlist\n",
    "\n",
    "# load data using Python JSON module\n",
    "with open('data/jly/Playlist1.json','r') as f:\n",
    "   data = json.loads(f.read())\n",
    " \n",
    "df_jly = pd.json_normalize(data, record_path =['playlists'])\n",
    "print(df_jly.head())\n",
    " \n",
    "\n",
    "df_arr = df_jly[\"items\"]\n",
    "print (df_arr)\n",
    "print (len(df_arr))\n",
    "#index through df_arr like an array, tells you how many songs are in a given playlist\n",
    "print (len(df_arr[0]))\n",
    " \n",
    "#df_second = pd.json_normalize(df_jly, record_path =['items'])\n",
    "#df_second.head()\n",
    "# df_jly = pd.read_json (r'data/jly/Playlist1.json')\n",
    "# for innerDF in df_jly:\n",
    "#     df = pd.json_normalize(innerDF, record_path =['playlists'])\n",
    "#     df.head()"
   ]
  },
  {
   "cell_type": "code",
   "execution_count": 6,
   "metadata": {},
   "outputs": [
    {
     "data": {
      "text/html": "<div>\n<style scoped>\n    .dataframe tbody tr th:only-of-type {\n        vertical-align: middle;\n    }\n\n    .dataframe tbody tr th {\n        vertical-align: top;\n    }\n\n    .dataframe thead th {\n        text-align: right;\n    }\n</style>\n<table border=\"1\" class=\"dataframe\">\n  <thead>\n    <tr style=\"text-align: right;\">\n      <th></th>\n      <th>owner</th>\n      <th>playlist_name</th>\n      <th>playlist_length</th>\n    </tr>\n  </thead>\n  <tbody>\n    <tr>\n      <th>263</th>\n      <td>hursh</td>\n      <td>Mix</td>\n      <td>1523</td>\n    </tr>\n    <tr>\n      <th>298</th>\n      <td>shrav</td>\n      <td>personal</td>\n      <td>1019</td>\n    </tr>\n    <tr>\n      <th>50</th>\n      <td>andres</td>\n      <td>🙆🏻‍♂️</td>\n      <td>614</td>\n    </tr>\n    <tr>\n      <th>163</th>\n      <td>yusra</td>\n      <td>Kachra I</td>\n      <td>578</td>\n    </tr>\n    <tr>\n      <th>38</th>\n      <td>camila</td>\n      <td>calm hyphy songs</td>\n      <td>567</td>\n    </tr>\n    <tr>\n      <th>...</th>\n      <td>...</td>\n      <td>...</td>\n      <td>...</td>\n    </tr>\n    <tr>\n      <th>146</th>\n      <td>jxu</td>\n      <td>Timeflies - I Choose U</td>\n      <td>1</td>\n    </tr>\n    <tr>\n      <th>136</th>\n      <td>jxu</td>\n      <td>Slide</td>\n      <td>1</td>\n    </tr>\n    <tr>\n      <th>148</th>\n      <td>jxu</td>\n      <td>3OH!3 - Double Vision</td>\n      <td>1</td>\n    </tr>\n    <tr>\n      <th>73</th>\n      <td>andres</td>\n      <td>iTunes Artwork Screen Saver</td>\n      <td>1</td>\n    </tr>\n    <tr>\n      <th>152</th>\n      <td>jxu</td>\n      <td>Windows Media Player</td>\n      <td>0</td>\n    </tr>\n  </tbody>\n</table>\n<p>342 rows × 3 columns</p>\n</div>",
      "text/plain": "      owner                playlist_name  playlist_length\n263   hursh                          Mix             1523\n298   shrav                     personal             1019\n50   andres                        🙆🏻‍♂️              614\n163   yusra                     Kachra I              578\n38   camila             calm hyphy songs              567\n..      ...                          ...              ...\n146     jxu       Timeflies - I Choose U                1\n136     jxu                        Slide                1\n148     jxu        3OH!3 - Double Vision                1\n73   andres  iTunes Artwork Screen Saver                1\n152     jxu         Windows Media Player                0\n\n[342 rows x 3 columns]"
     },
     "execution_count": 6,
     "metadata": {},
     "output_type": "execute_result"
    }
   ],
   "source": [
    "#putting all of the playlist names, lengths, and owners into one DF\n",
    " \n",
    "newDF = pd.DataFrame()\n",
    "playlistLengths = []\n",
    "playlistNames = []\n",
    "playlistOwners = []\n",
    " \n",
    "for nameFolder in os.listdir(\"data\"):\n",
    "   path = \"data/\" + nameFolder\n",
    "   for fileName in os.listdir(path):\n",
    "       if fileName.find(\"Playlist\") != -1:\n",
    "           filePath = path + \"/\" + fileName\n",
    "           with open(filePath,'r') as df:\n",
    "               playlistDF = json.loads(df.read())\n",
    "           info = pd.json_normalize(playlistDF, record_path =['playlists'])\n",
    "           df_arr = info[\"items\"]\n",
    "           index = 0\n",
    "           while index < len(df_arr):\n",
    "               playlistLengths.append(len(df_arr[index]))\n",
    "               playlistOwners.append(nameFolder)\n",
    "               playlistNames.append(info[\"name\"].values[index])\n",
    "               index += 1\n",
    " \n",
    "# print(playlistOwners)\n",
    "# print(playlistLengths)\n",
    "# print(playlistNames)\n",
    " \n",
    "newDF[\"owner\"] = playlistOwners\n",
    "newDF[\"playlist_name\"] = playlistNames\n",
    "newDF[\"playlist_length\"] = playlistLengths\n",
    "# print(newDF.head())\n",
    "newDF.sort_values(by=\"playlist_length\", ascending=False)"
   ]
  },
  {
   "cell_type": "code",
   "execution_count": null,
   "metadata": {},
   "outputs": [],
   "source": []
  }
 ],
 "metadata": {
  "kernelspec": {
   "display_name": "Python 3.8.5 64-bit ('pichi-spotify-wrapped': venv)",
   "metadata": {
    "interpreter": {
     "hash": "6b4878456e04472143e87879a7dc6c0eafd843b3f800a72f50837aac18f531f5"
    }
   },
   "name": "python3"
  },
  "language_info": {
   "codemirror_mode": {
    "name": "ipython",
    "version": 3
   },
   "file_extension": ".py",
   "mimetype": "text/x-python",
   "name": "python",
   "nbconvert_exporter": "python",
   "pygments_lexer": "ipython3",
   "version": "3.8.5"
  },
  "orig_nbformat": 2
 },
 "nbformat": 4,
 "nbformat_minor": 2
}