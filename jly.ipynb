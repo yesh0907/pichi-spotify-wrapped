{
 "cells": [
  {
   "cell_type": "code",
   "execution_count": 61,
   "metadata": {},
   "outputs": [],
   "source": [
    "import numpy as np\n",
    "import pandas as pd\n",
    "import matplotlib.pyplot as plt\n",
    "import seaborn as sns\n",
    "import os\n",
    "import json"
   ]
  },
  {
   "cell_type": "code",
   "execution_count": 34,
   "metadata": {},
   "outputs": [
    {
     "name": "stdout",
     "output_type": "stream",
     "text": [
      "               endTime     artistName  \\\n",
      "0     2019-09-05 22:42  Playboi Carti   \n",
      "1     2020-04-29 00:03       Lil Peep   \n",
      "2     2020-04-29 00:03         H.E.R.   \n",
      "3     2020-04-29 00:06  Freddie Gibbs   \n",
      "4     2020-04-29 00:10      Lil Mosey   \n",
      "...                ...            ...   \n",
      "9995  2021-01-07 04:37   Trippie Redd   \n",
      "9996  2021-01-07 04:37   Trippie Redd   \n",
      "9997  2021-01-07 04:37   Trippie Redd   \n",
      "9998  2021-01-07 04:37          Diplo   \n",
      "9999  2021-01-07 04:37   Trippie Redd   \n",
      "\n",
      "                                         trackName  msPlayed   name  \n",
      "0     Middle Of The Summer (feat. Red Coldhearted)     98329  Aaron  \n",
      "1                       Falling Down - Bonus Track    233400  Aaron  \n",
      "2                                            Slide      2880  Aaron  \n",
      "3                                       Crime Pays    182680  Aaron  \n",
      "4                                  Blueberry Faygo      1210  Aaron  \n",
      "...                                            ...       ...    ...  \n",
      "9995                                  Forever Ever       990  Aaron  \n",
      "9996                                  How You Feel    213287  Aaron  \n",
      "9997                                         BANG!      1020  Aaron  \n",
      "9998                            Wish - Trippie Mix       920  Aaron  \n",
      "9999                              Missing My Idols      1030  Aaron  \n",
      "\n",
      "[10000 rows x 5 columns]\n"
     ]
    }
   ],
   "source": [
    "#testing to figure out how to get the amount of time played\n",
    "\n",
    "df_aaron = pd.read_json (r'data/aaron/StreamingHistory0.json')\n",
    "df_aaron.head()\n",
    "df_aaron2 = pd.read_json (r'data/aaron/StreamingHistory1.json')\n",
    "df_aaron.append(df_aaron2)\n",
    "df_aaron['name'] = \"Aaron\"\n",
    "#df_aaron.head()\n",
    "print(df_aaron)\n"
   ]
  },
  {
   "cell_type": "code",
   "execution_count": 48,
   "metadata": {},
   "outputs": [
    {
     "data": {
      "text/plain": "name\njxu        6639626757\nhursh      5721658446\njly        4654521035\nnoosh      4407319396\nyusra      4070750665\nyash       3425511456\nyesh       3301720064\nandres     2763395984\nshrav      2375934887\nraymond    2358710016\ncamila     2357209601\naaron      2308863033\nung        2076485652\ncrystal    1621590455\nsarah      1574722611\nkellen      863210201\nsam         583728983\nName: msPlayed, dtype: int64"
     },
     "execution_count": 48,
     "metadata": {},
     "output_type": "execute_result"
    }
   ],
   "source": [
    "#actual implementation to find who uses spotify the most\n",
    "\n",
    "dfs = []\n",
    "\n",
    "for nameFolder in os.listdir(\"data\"):\n",
    "    path = \"data/\" + nameFolder\n",
    "    for fileName in os.listdir(path):\n",
    "        #print(fileName)\n",
    "        if fileName.find(\"StreamingHistory\") != -1:\n",
    "            filePath = path + \"/\" + fileName\n",
    "            #print(filePath)\n",
    "            df = pd.read_json(filePath)\n",
    "            df[\"name\"] = nameFolder\n",
    "            dfs.append(df)\n",
    "\n",
    "fullDF = pd.concat(dfs)\n",
    "fullDF = fullDF.groupby(\"name\")[\"msPlayed\"].sum()\n",
    "fullDF.sort_values(ascending=False)\n",
    "\n",
    "\n"
   ]
  },
  {
   "cell_type": "code",
   "execution_count": null,
   "metadata": {},
   "outputs": [],
   "source": []
  }
 ],
 "metadata": {
  "kernelspec": {
   "display_name": "Python 3.8.5 64-bit ('pichi-spotify-wrapped': venv)",
   "metadata": {
    "interpreter": {
     "hash": "6b4878456e04472143e87879a7dc6c0eafd843b3f800a72f50837aac18f531f5"
    }
   },
   "name": "python3"
  },
  "language_info": {
   "codemirror_mode": {
    "name": "ipython",
    "version": 3
   },
   "file_extension": ".py",
   "mimetype": "text/x-python",
   "name": "python",
   "nbconvert_exporter": "python",
   "pygments_lexer": "ipython3",
   "version": "3.8.5"
  },
  "orig_nbformat": 2
 },
 "nbformat": 4,
 "nbformat_minor": 2
}